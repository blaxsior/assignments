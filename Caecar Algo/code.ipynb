{
 "cells": [
  {
   "attachments": {},
   "cell_type": "markdown",
   "metadata": {},
   "source": [
    "# 카이사르 암호화 알고리즘\n",
    "- 카이사르 인코더/디코더 구현(둘은 동일)\n",
    "- 암호 해독 구현  \n",
    "    동작 방식\n",
    "    1. PorterStemmer 모듈 사용하여 단어 원형 추출\n",
    "    2. 저장된 단어 목록에 단어 원형이 존재하는지 비교\n",
    "    3. 3개 이상의 단어가 존재하면 맞는 문장으로 판단\n",
    "- 랜덤 문장 생성 기능 구현\n",
    "- 과제 수행\n",
    "    1. words_alpha(mit).txt 파일에서 단어 7 ~ 10개 뽑아 문장(?) 생성\n",
    "    2. 문장을 1 ~ 25로 caesar shift\n",
    "    3. 해당 문장을 해독"
   ]
  },
  {
   "attachments": {},
   "cell_type": "markdown",
   "metadata": {},
   "source": [
    "사용하는 단어 출처( words_alpha(mit).txt 파일의 단어들 ): https://www.mit.edu/~ecprice/wordlist.10000  \n",
    "  \n",
    "사용된 환경\n",
    "- vscode ipynb 환경\n",
    "- python 버전 3.11.2 (2023.03.29 기준 파이썬 최신 버전)\n",
    "- jupyter notebook 없이 파이썬 환경을 vscode와 바로 연결\n",
    "- nltk 모듈 설치(pip install nltk)"
   ]
  },
  {
   "attachments": {},
   "cell_type": "markdown",
   "metadata": {},
   "source": [
    "## 1. 카이사르 암호화 인코더 구현\n",
    "기본적으로 카이사르 암호는 인코딩 방식과 디코딩 방식이 완전히 동일하므로 대문자 및 소문자를 돌리는 방식만 구현하면 된다.  \n",
    "이때, 암호는 다음 조건을 만족한다.\n",
    "1. 대문자와 소문자만 순서 교체 대상으로 한정한다.\n",
    "2. 대문자는 대문자끼리, 소문자는 소문자끼리만 순서를 바꾼다."
   ]
  },
  {
   "cell_type": "code",
   "execution_count": 13,
   "metadata": {},
   "outputs": [],
   "source": [
    "# 대문자 = 65 ~ 90로 26개\n",
    "# 소문자 = 97 ~ 122로 26개\n",
    "\n",
    "def getRoundCh(cur: int, step: int, base: int, round: int = 26):\n",
    "    \"\"\"\n",
    "    @param cur 문자의 인덱스 값\n",
    "    @param step 카이사르 움직일 거리\n",
    "    @param base 기본 값(ex 대문자는 65)\n",
    "    @return step만큼 이동한 문자\n",
    "    \"\"\"\n",
    "    assert(0 <= (cur - base) <= round) # base-cur 값은 라운드 내에 있어야 함\n",
    "    return chr(base + (cur - base + step) % round)\n",
    "\n",
    "def encoder(string: str, step: int = 1, direction: bool = True):\n",
    "    \"\"\"\n",
    "    @param string 암호화 대상이 되는 문자열\n",
    "    @param step 이동할 수치\n",
    "    @param direction 이동하는 방향. True이면 인덱스가 증가하는 방향\n",
    "    @return 카이사르 암호화가 적용된 문자열\n",
    "    \"\"\"\n",
    "    if not direction: #반대방향인 경우\n",
    "        step *= -1 \n",
    "    result: str = \"\"\n",
    "    for ch in string:\n",
    "        code = ord(ch)\n",
    "        if 65 <= code <= 90: # 대문자라면\n",
    "            result += getRoundCh(code, step, 65)\n",
    "        elif 97 <= code <= 122:\n",
    "            result += getRoundCh(code, step, 97)\n",
    "        else:\n",
    "            result += ch\n",
    "    \n",
    "    return result"
   ]
  },
  {
   "cell_type": "code",
   "execution_count": 14,
   "metadata": {},
   "outputs": [
    {
     "name": "stdout",
     "output_type": "stream",
     "text": [
      "Jgnnq, Yqtnf!\n",
      "Fcjjm, Umpjb!\n"
     ]
    }
   ],
   "source": [
    "# 테스팅 코드. 정상적으로 동작함!\n",
    "print(encoder(\"Hello, World!\", 2))\n",
    "print(encoder(\"Hello, World!\", 2, False))"
   ]
  },
  {
   "attachments": {},
   "cell_type": "markdown",
   "metadata": {},
   "source": [
    "## 2. 암호 해독 구현\n",
    "현재 과제에서는 컴퓨터 자신이 암호문을 스스로 복호화할 수 있어야 하므로, 현재 문장의 단어들이 실제로 존재하는지 판단하기 위한 방법이 필요하다.  \n",
    "mit에서 제공하는 10000개의 단어에 대한 어간을 저장해놓은 후, 현재 들어오는 단어의 어간을 분석, 해당 단어 풀에 존재하는지 체크하여 3개 단어 이상 맞으면 해결했다고 간주한다."
   ]
  },
  {
   "attachments": {},
   "cell_type": "markdown",
   "metadata": {},
   "source": [
    "### nltk 토크나이저 동작과 re 모듈의 substitution 동작 방식 확인"
   ]
  },
  {
   "cell_type": "code",
   "execution_count": 15,
   "metadata": {},
   "outputs": [
    {
     "name": "stdout",
     "output_type": "stream",
     "text": [
      "['hello', 'my', 'name', 'is', 'heejun']\n"
     ]
    }
   ],
   "source": [
    "import nltk\n",
    "import re\n",
    "\n",
    "my_string = \"hello, my name is heejun!\"\n",
    "cut_str = re.sub(r\"[^0-9A-Za-z]\",\" \", my_string) # 특문 제거\n",
    "\n",
    "# 정규식으로 특수 문자 제거\n",
    "# 특수 문자는 어차피 카이사르 암호에서 중요한 정보가 아니므로, 제거 가능\n",
    "\n",
    "result = nltk.tokenize.word_tokenize(cut_str)\n",
    "print(result)"
   ]
  },
  {
   "attachments": {},
   "cell_type": "markdown",
   "metadata": {},
   "source": [
    "### PorterStemmer 동작 확인"
   ]
  },
  {
   "cell_type": "code",
   "execution_count": 16,
   "metadata": {},
   "outputs": [
    {
     "name": "stdout",
     "output_type": "stream",
     "text": [
      "['i', 'know', 'a', 'young', 'man', 'who', 'declar', 'that', 'after', 'read', 'a', 'certain']\n",
      "['explor', 's', 'descript', 'of', 'a', 'journey', 'across', 'the', 'burn', 'sahara', 'he']\n",
      "['found', 'to', 'hi', 'amaz', 'that', 'hi', 'nose', 'wa', 'cover', 'with', 'freckl', 'the']\n",
      "['reader', 'will', 'perhap', 'rememb', 'how', 'on', 'some', 'raini', 'day', 'in', 'hi', 'childhood']\n",
      "['he', 'ha', 'sat', 'over', 'the', 'fire', 'and', 'ha', 'read', 'sea', 'stori', 'and', 'dream']\n",
      "['sea', 'dream', 'until', 'hi', 'lip', 'he', 'will', 'swear', 'have', 'tast', 'salt', 'ala']\n",
      "['one', 's', 'littl', 'agil', 'in', 'the', 'art', 'of', 'narrat', 'is', 'wholli', 'inadequ']\n",
      "['for', 'the', 'product', 'at', 'thi', 'time', 'of', 'life', 'of', 'ani', 'such', 'phenomena']\n",
      "['upon', 'the', 'gentl', 'skin', 'of', 'those', 'who', 'chanc', 'to', 'read', 'these', 'page', 'were']\n",
      "['one', 'a', 'master', 'maker', 'of', 'literatur', 'one', 'might', 'herewith', 'lead', 'the']\n",
      "['imagin', 'so', 'straight', 'into', 'the', 'boister', 'breez', 'of', 'egypt', 'one']\n",
      "['might', 'hold', 'them', 'so', 'entranc', 'in', 'the', 'sunlight', 'which', 'stream', 'over']\n",
      "['the', 'desert', 'that', 'they', 'would', 'feel', 'wherev', 'they', 'might', 'be', 'seat']\n",
      "['the', 'tingl', 'glow', 'of', 'the', 'sun', 'and', 'the', 'wind', 'upon', 'their', 'cheek']\n",
      "['and', 'would', 'hold', 'their', 'hand', 'to', 'their', 'eye', 'as', 'a', 'shelter', 'from', 'the']\n",
      "['glare', 'the', 'wall', 'of', 'their', 'room', 'would', 'fall', 'flat', 'as', 'those', 'of', 'jericho']\n",
      "['and', 'outsid', 'they', 'would', 'see', 'the', 'advanc', 'host', 'of', 'the', 'invad', 'the']\n",
      "['sunshin', 'the', 'north', 'wind', 'the', 'scud', 'cloud', 'the', 'circl', 'eagl']\n",
      "['the', 'glisten', 'sand', 'the', 'blue', 'shadow', 'and', 'the', 'rampant', 'rock', 'and']\n",
      "['the', 'night', 'close', 'over', 'the', 'sack', 'of', 'their', 'citi', 'they', 'would', 'see', 'the']\n",
      "['moonlight', 'the', 'brilliant', 'star', 'the', 'flutter', 'bat', 'the', 'solemn', 'owl']\n",
      "['and', 'they', 'would', 'hear', 'the', 'wail', 'of', 'the', 'hy', 'na', 'and', 'the', 'bark', 'of']\n",
      "['the', 'dog', 'in', 'the', 'distant', 'camp', 'if', 'one', 'onli', 'possess', 'the', 'abil']\n",
      "['one', 'might', 'weav', 'such', 'a', 'magic', 'carpet', 'for', 'those', 'who', 'knew', 'how', 'to', 'ride']\n",
      "['upon', 'it', 'that', 'desert', 'the', 'fallen', 'jericho', 'of', 'their', 'habit']\n",
      "['they', 'would', 'fli', 'to', 'the', 'land', 'of', 'the', 'invad', 'which', 'they', 'had', 'seen']\n",
      "['and', 'there', 'they', 'would', 'be', 'kept', 'as', 'spell', 'bound', 'and', 'dazzl', 'by', 'the', 'eye']\n",
      "['of', 'the', 'wilder', 'as', 'ever', 'a', 'child', 'wa', 'dazzl', 'by', 'a', 'tale', 'of', 'the', 'sea']\n",
      "['it', 's', 'beauti']\n"
     ]
    }
   ],
   "source": [
    "from nltk.stem import PorterStemmer # 어간을 추출하기 위한 라이브러리\n",
    "from nltk.tokenize import word_tokenize\n",
    "import re\n",
    "\n",
    "contents: list[str] = []\n",
    "with open('test1.txt','r',encoding='utf-8') as file:\n",
    "    for line in file:\n",
    "        contents.append(line)\n",
    "\n",
    "stemmer = PorterStemmer()\n",
    "for content in contents:\n",
    "    stemwords:list[str] = []\n",
    "    content = re.sub(r\"[^0-9A-Za-z]\",\" \", content)\n",
    "    for word in word_tokenize(content):\n",
    "        stemmed = stemmer.stem(word = word)\n",
    "        stemwords.append(stemmed)\n",
    "    print(stemwords) # 정상적으로 어간을 추출하고 있음."
   ]
  },
  {
   "attachments": {},
   "cell_type": "markdown",
   "metadata": {},
   "source": [
    "### mit에서 제공하는 단어 목록의 어간을 추출하여 파일에 저장"
   ]
  },
  {
   "cell_type": "code",
   "execution_count": 20,
   "metadata": {},
   "outputs": [
    {
     "name": "stdout",
     "output_type": "stream",
     "text": [
      "stems length: 6783\n"
     ]
    }
   ],
   "source": [
    "from nltk.stem import PorterStemmer\n",
    "stems: set[str] = set()\n",
    "stemmer = PorterStemmer()\n",
    "with open('words_alpha(mit).txt','r',encoding='utf-8') as rfile:\n",
    "    count = 0\n",
    "    for line in rfile: # 파일에서 읽기\n",
    "        result = stemmer.stem(line.strip()) # 띄어쓰기 지우기\n",
    "        stems.add(result)\n",
    "print(f\"stems length: {len(stems)}\")\n",
    "\n",
    "with open('words_stems(mit).txt','a', encoding='utf-8') as wfile:\n",
    "    wfile.write(\",\".join(stems))\n",
    "# 1000개의 단어에서 6783개의 어간 추출"
   ]
  },
  {
   "attachments": {},
   "cell_type": "markdown",
   "metadata": {},
   "source": [
    "### 추출한 어간 목록을 이용하여 크래킹 시도하는 모듈 작성"
   ]
  },
  {
   "cell_type": "code",
   "execution_count": 25,
   "metadata": {},
   "outputs": [],
   "source": [
    "class CaesarCipher:\n",
    "        # 대문자 = 65 ~ 90로 26개\n",
    "    # 소문자 = 97 ~ 122로 26개\n",
    "    def getRoundCh(cur: int, step: int, base: int, round: int = 26):\n",
    "        \"\"\"\n",
    "        @param cur 문자의 인덱스 값\n",
    "        @param step 카이사르 움직일 거리\n",
    "        @param base 기본 값(ex 대문자는 65)\n",
    "        @return step만큼 이동한 문자\n",
    "        \"\"\"\n",
    "        assert(0 <= (cur - base) <= round) # base-cur 값은 라운드 내에 있어야 함\n",
    "        return chr(base + (cur - base + step) % round)\n",
    "\n",
    "    def encoder(string: str, step: int = 1, direction: bool = True):\n",
    "        \"\"\"\n",
    "        @param string 암호화 대상이 되는 문자열\n",
    "        @param step 이동할 수치\n",
    "        @param direction 이동하는 방향. True이면 인덱스가 증가하는 방향\n",
    "        @return 카이사르 암호화가 적용된 문자열\n",
    "        \"\"\"\n",
    "        if not direction: #반대방향인 경우\n",
    "            step *= -1 \n",
    "        result: str = \"\"\n",
    "        for ch in string:\n",
    "            code = ord(ch)\n",
    "            if 65 <= code <= 90: # 대문자라면\n",
    "                result += getRoundCh(code, step, 65)\n",
    "            elif 97 <= code <= 122:\n",
    "                result += getRoundCh(code, step, 97)\n",
    "            else:\n",
    "                result += ch\n",
    "        \n",
    "        return result"
   ]
  },
  {
   "cell_type": "code",
   "execution_count": 41,
   "metadata": {},
   "outputs": [],
   "source": [
    "from nltk.tokenize import word_tokenize\n",
    "from nltk.stem import PorterStemmer\n",
    "import re\n",
    "\n",
    "class CaesarCracker:\n",
    "    __stems: set[str] ## 미리 준비된 어간 목록\n",
    "    __stemmer : PorterStemmer\n",
    "\n",
    "    def __init__(self, stem_source: str):\n",
    "        self.__stemmer = PorterStemmer()\n",
    "        self.__stems = set() # 초기화\n",
    "        with open(stem_source,'r',encoding='utf-8') as file:\n",
    "            for line in file:\n",
    "                stems = line.split(',') # ,로 stem 분할\n",
    "                for stem in stems:\n",
    "                    self.__stems.add(stem) # 분할된 stem 목록 삽입\n",
    "    \n",
    "    def genToken(string: str, step: int):\n",
    "        \"\"\"\n",
    "        입력 받은 문자열을 토큰으로 나눠 반환한다.\n",
    "        @param string 입력 받은 문자열\n",
    "        @param step 문자를 이동하는 수치\n",
    "        \"\"\"\n",
    "        caesared_str = CaesarCipher.encoder(string,step)\n",
    "        processed_str = re.sub(r\"[^0-9A-Za-z]\",\" \", caesared_str) # 특문 제거\n",
    "        tokens = word_tokenize(processed_str) # 생성된 토큰들\n",
    "        return (caesared_str, tokens)\n",
    "                \n",
    "    def crack(self, string: str, max_round: int = 26, criteria: int = 3):\n",
    "        \"\"\"\n",
    "        해독한 문자열에 대해 criteria을 초과하는 문장 목록을 반환한다. criteria 이상은 검사하지 않는다.\n",
    "        @param string 크래킹 대상이 되는 문자열\n",
    "        @param max_round 최대 라운드 수\n",
    "        @param criteria 현재 문장이 맞다고 판단할 어간 일치 수\n",
    "        @return list[(round: int, result: str)] 해독한 문장들에 대해 criteria을 만족하는 문자열들의 라운드 및 결과 문장\n",
    "        \"\"\"\n",
    "        result = []\n",
    "        for i in range(1,max_round):\n",
    "            caesared_str, tokens = CaesarCracker.genToken(string, i)\n",
    "            count = 0\n",
    "            for token in tokens:\n",
    "                stem = self.__stemmer.stem(token)\n",
    "                if stem in self.__stems:\n",
    "                    count += 1 # 현재 문장을 맞다고 판단.\n",
    "                    if count >= criteria:\n",
    "                        result.append((i, caesared_str)) # 문장을 삽입\n",
    "                        break\n",
    "            \n",
    "        return result if result else [(-1, \"Not Found\")] # 발견하지 못했다고 표현\n",
    "\n",
    "    def crackFullSearch(self, string: str, max_round: int = 26, criteria: int = 3):\n",
    "        \"\"\"\n",
    "        문장 내 단어를 모두 stem과 비교하여 criteria을 넘는 문자열 목록을 최대 유사도 순서로 반환한다.\n",
    "        @param string 크래킹 대상이 되는 문자열\n",
    "        @param max_round 최대 라운드 수\n",
    "        @param criteria 현재 문장이 맞다고 판단할 어간 일치 수\n",
    "        @return list[tuple[round: int, result: str,count: int]] criteria 이상의 count을 가지는 문자열을 count가 큰 순서로 정렬해서 반환\n",
    "        \"\"\"\n",
    "        result: list[tuple[int,str,int]] = []\n",
    "        for i in range(1,max_round):\n",
    "            caesared_str, tokens = CaesarCracker.genToken(string, i)\n",
    "            count = 0\n",
    "            for token in tokens:\n",
    "                stem = self.__stemmer.stem(token)\n",
    "                if stem in self.__stems:\n",
    "                    count += 1 # 현재 문장을 맞다고 판단.\n",
    "            if count >= criteria:\n",
    "                result.append((i, caesared_str, count)) # 문장을 삽입\n",
    "        result.sort(key = lambda it: it[2], reverse=True)\n",
    "        return result if result else [(-1, \"Not Found\")] # 발견하지 못했다고 표현\n",
    "    \n"
   ]
  },
  {
   "attachments": {},
   "cell_type": "markdown",
   "metadata": {},
   "source": [
    "### 크래킹 모듈 동작 테스트"
   ]
  },
  {
   "cell_type": "code",
   "execution_count": 42,
   "metadata": {},
   "outputs": [
    {
     "name": "stdout",
     "output_type": "stream",
     "text": [
      "[(23, 'hello, world! this world is mine!')]\n",
      "[(1, 'Q svwe i gwcvo uiv epw lmktizma bpib inbmz zmilqvo i kmzbiqv'), (2, 'R twxf j hxdwp vjw fqx mnlujanb cqjc jocna anjmrwp j lnacjrw'), (3, 'S uxyg k iyexq wkx gry nomvkboc drkd kpdob boknsxq k mobdksx'), (4, 'T vyzh l jzfyr xly hsz opnwlcpd esle lqepc cplotyr l npcelty'), (5, 'U wzai m kagzs ymz ita pqoxmdqe ftmf mrfqd dqmpuzs m oqdfmuz'), (6, 'V xabj n lbhat zna jub qrpynerf gung nsgre ernqvat n pregnva'), (7, 'W ybck o mcibu aob kvc rsqzofsg hvoh othsf fsorwbu o qsfhowb'), (8, 'X zcdl p ndjcv bpc lwd strapgth iwpi puitg gtpsxcv p rtgipxc'), (9, 'Y adem q oekdw cqd mxe tusbqhui jxqj qvjuh huqtydw q suhjqyd'), (10, 'Z befn r pflex dre nyf uvtcrivj kyrk rwkvi ivruzex r tvikrze'), (11, 'A cfgo s qgmfy esf ozg vwudsjwk lzsl sxlwj jwsvafy s uwjlsaf'), (12, 'B dghp t rhngz ftg pah wxvetkxl matm tymxk kxtwbgz t vxkmtbg'), (13, 'C ehiq u sioha guh qbi xywfulym nbun uznyl lyuxcha u wylnuch'), (14, 'D fijr v tjpib hvi rcj yzxgvmzn ocvo vaozm mzvydib v xzmovdi'), (15, 'E gjks w ukqjc iwj sdk zayhwnao pdwp wbpan nawzejc w yanpwej'), (16, 'F hklt x vlrkd jxk tel abzixobp qexq xcqbo obxafkd x zboqxfk'), (17, 'G ilmu y wmsle kyl ufm bcajypcq rfyr ydrcp pcybgle y acprygl'), (18, 'H jmnv z xntmf lzm vgn cdbkzqdr sgzs zesdq qdzchmf z bdqszhm'), (19, 'I know a young man who declares that after reading a certain'), (20, 'J lopx b zpvoh nbo xip efdmbsft uibu bgufs sfbejoh b dfsubjo'), (21, 'K mpqy c aqwpi ocp yjq fgenctgu vjcv chvgt tgcfkpi c egtvckp'), (22, 'L nqrz d brxqj pdq zkr ghfoduhv wkdw diwhu uhdglqj d fhuwdlq'), (23, 'M orsa e csyrk qer als higpeviw xlex ejxiv viehmrk e givxemr'), (24, 'N pstb f dtzsl rfs bmt ijhqfwjx ymfy fkyjw wjfinsl f hjwyfns'), (25, 'O qtuc g euatm sgt cnu jkirgxky zngz glzkx xkgjotm g ikxzgot')]\n"
     ]
    }
   ],
   "source": [
    "cracker = CaesarCracker(\"words_stems(mit).txt\")\n",
    "\n",
    "encrypted1 = CaesarCipher.encoder(\"hello, world! this world is mine!\", 3)\n",
    "print(cracker.crack(encrypted1))\n",
    "# 오, 잘 된다!\n",
    "\n",
    "encrypted2 = CaesarCipher.encoder(\"I know a young man who declares that after reading a certain\", 7)\n",
    "print(cracker.crack(encrypted2,criteria=3)) # criteria = 3인 경우, 제대로 된 답이 나오지 않는다."
   ]
  },
  {
   "cell_type": "code",
   "execution_count": 44,
   "metadata": {},
   "outputs": [
    {
     "name": "stdout",
     "output_type": "stream",
     "text": [
      "[(1, 'Q svwe i gwcvo uiv epw lmktizma bpib inbmz zmilqvo i kmzbiqv'), (2, 'R twxf j hxdwp vjw fqx mnlujanb cqjc jocna anjmrwp j lnacjrw'), (3, 'S uxyg k iyexq wkx gry nomvkboc drkd kpdob boknsxq k mobdksx'), (4, 'T vyzh l jzfyr xly hsz opnwlcpd esle lqepc cplotyr l npcelty'), (5, 'U wzai m kagzs ymz ita pqoxmdqe ftmf mrfqd dqmpuzs m oqdfmuz'), (6, 'V xabj n lbhat zna jub qrpynerf gung nsgre ernqvat n pregnva'), (7, 'W ybck o mcibu aob kvc rsqzofsg hvoh othsf fsorwbu o qsfhowb'), (8, 'X zcdl p ndjcv bpc lwd strapgth iwpi puitg gtpsxcv p rtgipxc'), (9, 'Y adem q oekdw cqd mxe tusbqhui jxqj qvjuh huqtydw q suhjqyd'), (10, 'Z befn r pflex dre nyf uvtcrivj kyrk rwkvi ivruzex r tvikrze'), (11, 'A cfgo s qgmfy esf ozg vwudsjwk lzsl sxlwj jwsvafy s uwjlsaf'), (12, 'B dghp t rhngz ftg pah wxvetkxl matm tymxk kxtwbgz t vxkmtbg'), (13, 'C ehiq u sioha guh qbi xywfulym nbun uznyl lyuxcha u wylnuch'), (14, 'D fijr v tjpib hvi rcj yzxgvmzn ocvo vaozm mzvydib v xzmovdi'), (15, 'E gjks w ukqjc iwj sdk zayhwnao pdwp wbpan nawzejc w yanpwej'), (16, 'F hklt x vlrkd jxk tel abzixobp qexq xcqbo obxafkd x zboqxfk'), (17, 'G ilmu y wmsle kyl ufm bcajypcq rfyr ydrcp pcybgle y acprygl'), (18, 'H jmnv z xntmf lzm vgn cdbkzqdr sgzs zesdq qdzchmf z bdqszhm'), (19, 'I know a young man who declares that after reading a certain'), (20, 'J lopx b zpvoh nbo xip efdmbsft uibu bgufs sfbejoh b dfsubjo'), (21, 'K mpqy c aqwpi ocp yjq fgenctgu vjcv chvgt tgcfkpi c egtvckp'), (22, 'L nqrz d brxqj pdq zkr ghfoduhv wkdw diwhu uhdglqj d fhuwdlq'), (23, 'M orsa e csyrk qer als higpeviw xlex ejxiv viehmrk e givxemr'), (24, 'N pstb f dtzsl rfs bmt ijhqfwjx ymfy fkyjw wjfinsl f hjwyfns'), (25, 'O qtuc g euatm sgt cnu jkirgxky zngz glzkx xkgjotm g ikxzgot')]\n",
      "[(16, 'F hklt x vlrkd jxk tel abzixobp qexq xcqbo obxafkd x zboqxfk'), (19, 'I know a young man who declares that after reading a certain'), (23, 'M orsa e csyrk qer als higpeviw xlex ejxiv viehmrk e givxemr'), (24, 'N pstb f dtzsl rfs bmt ijhqfwjx ymfy fkyjw wjfinsl f hjwyfns')]\n",
      "[(19, 'I know a young man who declares that after reading a certain')]\n",
      "[(19, 'I know a young man who declares that after reading a certain', 12), (16, 'F hklt x vlrkd jxk tel abzixobp qexq xcqbo obxafkd x zboqxfk', 4), (23, 'M orsa e csyrk qer als higpeviw xlex ejxiv viehmrk e givxemr', 4), (24, 'N pstb f dtzsl rfs bmt ijhqfwjx ymfy fkyjw wjfinsl f hjwyfns', 4), (1, 'Q svwe i gwcvo uiv epw lmktizma bpib inbmz zmilqvo i kmzbiqv', 3), (2, 'R twxf j hxdwp vjw fqx mnlujanb cqjc jocna anjmrwp j lnacjrw', 3), (3, 'S uxyg k iyexq wkx gry nomvkboc drkd kpdob boknsxq k mobdksx', 3), (4, 'T vyzh l jzfyr xly hsz opnwlcpd esle lqepc cplotyr l npcelty', 3), (5, 'U wzai m kagzs ymz ita pqoxmdqe ftmf mrfqd dqmpuzs m oqdfmuz', 3), (6, 'V xabj n lbhat zna jub qrpynerf gung nsgre ernqvat n pregnva', 3), (7, 'W ybck o mcibu aob kvc rsqzofsg hvoh othsf fsorwbu o qsfhowb', 3), (8, 'X zcdl p ndjcv bpc lwd strapgth iwpi puitg gtpsxcv p rtgipxc', 3), (9, 'Y adem q oekdw cqd mxe tusbqhui jxqj qvjuh huqtydw q suhjqyd', 3), (10, 'Z befn r pflex dre nyf uvtcrivj kyrk rwkvi ivruzex r tvikrze', 3), (11, 'A cfgo s qgmfy esf ozg vwudsjwk lzsl sxlwj jwsvafy s uwjlsaf', 3), (12, 'B dghp t rhngz ftg pah wxvetkxl matm tymxk kxtwbgz t vxkmtbg', 3), (13, 'C ehiq u sioha guh qbi xywfulym nbun uznyl lyuxcha u wylnuch', 3), (14, 'D fijr v tjpib hvi rcj yzxgvmzn ocvo vaozm mzvydib v xzmovdi', 3), (15, 'E gjks w ukqjc iwj sdk zayhwnao pdwp wbpan nawzejc w yanpwej', 3), (17, 'G ilmu y wmsle kyl ufm bcajypcq rfyr ydrcp pcybgle y acprygl', 3), (18, 'H jmnv z xntmf lzm vgn cdbkzqdr sgzs zesdq qdzchmf z bdqszhm', 3), (20, 'J lopx b zpvoh nbo xip efdmbsft uibu bgufs sfbejoh b dfsubjo', 3), (21, 'K mpqy c aqwpi ocp yjq fgenctgu vjcv chvgt tgcfkpi c egtvckp', 3), (22, 'L nqrz d brxqj pdq zkr ghfoduhv wkdw diwhu uhdglqj d fhuwdlq', 3), (25, 'O qtuc g euatm sgt cnu jkirgxky zngz glzkx xkgjotm g ikxzgot', 3)]\n",
      "[(19, 'I know a young man who declares that after reading a certain', 12), (16, 'F hklt x vlrkd jxk tel abzixobp qexq xcqbo obxafkd x zboqxfk', 4), (23, 'M orsa e csyrk qer als higpeviw xlex ejxiv viehmrk e givxemr', 4), (24, 'N pstb f dtzsl rfs bmt ijhqfwjx ymfy fkyjw wjfinsl f hjwyfns', 4)]\n",
      "[(19, 'I know a young man who declares that after reading a certain', 12)]\n"
     ]
    }
   ],
   "source": [
    "#발견하면 바로 나오기\n",
    "print(cracker.crack(encrypted2,criteria=3))\n",
    "print(cracker.crack(encrypted2,criteria=4))\n",
    "print(cracker.crack(encrypted2,criteria=5))\n",
    "\n",
    "#full search -> 빈도가 높은 순으로 뽑아주기\n",
    "print(cracker.crackFullSearch(encrypted2, criteria=3))\n",
    "print(cracker.crackFullSearch(encrypted2, criteria=4))\n",
    "print(cracker.crackFullSearch(encrypted2, criteria=5))\n",
    "\n",
    "#일반적인 문장에도 성립한다.\n"
   ]
  },
  {
   "attachments": {},
   "cell_type": "markdown",
   "metadata": {},
   "source": [
    "## 3. 랜덤 문장 생성 클래스 구현\n",
    "words_alpha(mit).txt 파일에서 7 ~ 10개 단어를 뽑아 랜덤 문장을 생성.  \n",
    "문장 자체는 말이 안될 수도 있지만, 단어는 모두 유효."
   ]
  },
  {
   "cell_type": "code",
   "execution_count": 48,
   "metadata": {},
   "outputs": [],
   "source": [
    "from random import randint\n",
    "\n",
    "class RSGenerator:\n",
    "    __words: list[str]\n",
    "    def __init__(self, word_source: str):\n",
    "        \"\"\"\n",
    "        @param word_source 단어가 담긴 파일 이름. 단어는 한 줄에 하나 있는 것을 기준으로 한다.\n",
    "        \"\"\"\n",
    "        self.__words = []\n",
    "        with open(word_source,'r',encoding='utf-8') as file:\n",
    "            self.__words.extend([line.strip() for line in file])\n",
    "    \n",
    "    def gen(self, min_size:int = 7, max_size:int = 10):\n",
    "        \"\"\"\n",
    "        start ~ stop 길이 사이의 단어를 포함한 문장을 반환한다.\n",
    "        @param min_size 최소 길이\n",
    "        @param max_size 최대 길이       \n",
    "        \"\"\"\n",
    "        arr = []\n",
    "        wlen = len(self.__words)\n",
    "        for _ in range(randint(min_size,max_size)):\n",
    "            word = self.__words[randint(0, wlen - 1)]\n",
    "            # 맨 마지막 숫자 걸리면 인덱스 바깥\n",
    "            arr.append(word)\n",
    "        return \" \".join(arr)"
   ]
  },
  {
   "attachments": {},
   "cell_type": "markdown",
   "metadata": {},
   "source": [
    "### 실행 테스트"
   ]
  },
  {
   "cell_type": "code",
   "execution_count": 49,
   "metadata": {},
   "outputs": [
    {
     "name": "stdout",
     "output_type": "stream",
     "text": [
      "classes petersburg limousines sue gotten webcams brush equation stylus\n",
      "weekends huge milfs giant assumed aluminium catch interested had\n",
      "compared troops feat gore bigger taylor unless forecasts league\n",
      "k reads fotos citizens designation sacramento reproduction plates restored wrapping\n",
      "typically begin hawk clients regular plot angola\n",
      "trailer pathology filled violations completed tones dynamics clicks\n",
      "boston hearing label wall angola nonprofit tip computing\n",
      "config simulations beginner scoop erotic quad oldest eds\n",
      "continued dig soonest there base garlic strikes\n",
      "salaries violation november conferencing understood adaptive ecuador cdt stick shit\n"
     ]
    }
   ],
   "source": [
    "generator = RSGenerator('words_alpha(mit).txt')\n",
    "for i in range(10):\n",
    "    print(generator.gen())"
   ]
  },
  {
   "attachments": {},
   "cell_type": "markdown",
   "metadata": {},
   "source": [
    "## 4. 과제 수행\n",
    "1. 단어 7 ~ 10개인 문장 생성\n",
    "2. 생성된 단어를 1 ~ 25사이로 shift\n",
    "3. 카이사르 암호를 해독(100회)"
   ]
  },
  {
   "cell_type": "code",
   "execution_count": 51,
   "metadata": {},
   "outputs": [
    {
     "name": "stdout",
     "output_type": "stream",
     "text": [
      "[0] TimeLapse: 8999800, result: [(13, 'watch posts idaho template incidents preserve ahead priced prizes')]\n",
      "[1] TimeLapse: 9999000, result: [(12, 'computation updating sofa hungry consist connected brutal gloves lead options')]\n",
      "[2] TimeLapse: 8015500, result: [(24, 'commitment frequencies laden recordings subsidiaries finest monster neural subscribe')]\n",
      "[3] TimeLapse: 12987300, result: [(21, 'utah raising sucks domestic saudi fig fruits graphs ghz')]\n",
      "[4] TimeLapse: 33000100, result: [(11, 'spread municipal certainly spies girls erp tapes lasting')]\n",
      "[5] TimeLapse: 20003100, result: [(15, 'wanting improving austin wonderful candidates xxx northwest')]\n",
      "[6] TimeLapse: 20997200, result: [(14, 'bookmarks cathedral buyers turner logged boss bouquet going nec election')]\n",
      "[7] TimeLapse: 18999500, result: [(20, 'hire eyes francisco democratic can finder newport jo downloading')]\n",
      "[8] TimeLapse: 12002400, result: [(12, 'des week xp plug lookup sand fc healthy eastern partnerships')]\n",
      "[9] TimeLapse: 7996000, result: [(8, 'judges cache journey film pledge allergy stocks form')]\n",
      "[10] TimeLapse: 8001200, result: [(3, 'france von obviously accurately sterling drawings previews')]\n",
      "[11] TimeLapse: 9999900, result: [(24, 'med content stockholm organizational considerations criminal philippines calls greensboro')]\n",
      "[12] TimeLapse: 9004500, result: [(19, 'challenging endorsement ukraine html potentially greeting velvet son aviation acm')]\n",
      "[13] TimeLapse: 6994400, result: [(3, 'tx revenue anybody alerts missions foster charge')]\n",
      "[14] TimeLapse: 14000700, result: [(14, 'derek archive excited cradle indeed internationally computers highlighted')]\n",
      "[15] TimeLapse: 8000600, result: [(13, 'apollo leather criteria teams penalties mercury creatures mf deer organic')]\n",
      "[16] TimeLapse: 14001300, result: [(17, 'outer recommendation dinner general cisco slip gore phenomenon skip miss')]\n",
      "[17] TimeLapse: 12000700, result: [(8, 'them liberal securities solved indicate myrtle phrases circumstances uruguay tt')]\n",
      "[18] TimeLapse: 15999000, result: [(9, 'nextel deutsche leslie enlarge cookbook copper halifax fears wish interval')]\n",
      "[19] TimeLapse: 5997900, result: [(20, 'senegal got texts raleigh upskirt interact framed')]\n",
      "[20] TimeLapse: 9002200, result: [(24, 'sociology commissioner chess craps seats zip much brighton irish')]\n",
      "[21] TimeLapse: 11004300, result: [(24, 'monday thrown statements copper reliable heroes remedy separation destroyed mid')]\n",
      "[22] TimeLapse: 7997300, result: [(7, 'returning throwing hotelscom measures donations executive scott')]\n",
      "[23] TimeLapse: 7000300, result: [(20, 'underlying authentication participated facility year enforcement th mh')]\n",
      "[24] TimeLapse: 8999900, result: [(24, 'annotated ap yearly qatar breaking journalism denmark lou ieee')]\n",
      "[25] TimeLapse: 7998200, result: [(16, 'steam works psychological publish bunny angels dui my epinionscom midnight')]\n",
      "[26] TimeLapse: 6995500, result: [(6, 'ez ka twfbllbhg wu ukbgzl libwxk lxxw twfbllbhgl ubsktmx'), (13, 'lg rh admission db brings spider seed admissions bizrate'), (14, 'mh si benjttjpo ec csjoht tqjefs tffe benjttjpot cjasbuf'), (24, 'wr cs loxtddtzy om mctyrd datopc dppo loxtddtzyd mtkclep')]\n",
      "[27] TimeLapse: 8005800, result: [(20, 'fox philippines classic naturals gadgets coffee discharge')]\n",
      "[28] TimeLapse: 12997100, result: [(10, 'gilbert dee mats agents oem priority endorsed documentary finals due')]\n",
      "[29] TimeLapse: 13998000, result: [(3, 'dk only feeds omaha republicans strike inquiry convention approaches cache')]\n",
      "[30] TimeLapse: 13994100, result: [(4, 'wang concentration fx mae colors destroy deaths kissing server')]\n",
      "[31] TimeLapse: 15003700, result: [(18, 'asset vocal oracle economics gain chair street drama')]\n",
      "[32] TimeLapse: 7996400, result: [(13, 'demographic duncan counted chest salad jaguar four pencil hate jesse')]\n",
      "[33] TimeLapse: 10999600, result: [(25, 'find articles croatia infinite watson cope broken seeking adjust')]\n",
      "[34] TimeLapse: 9001600, result: [(17, 'vatican roles long camp ringtone oxide fever latter allan lyrics')]\n",
      "[35] TimeLapse: 9997500, result: [(9, 'closer nec positioning baker ellen plus virtue injection')]\n",
      "[36] TimeLapse: 8015500, result: [(21, 'assessed blanket holding circumstances arabia ass rn')]\n",
      "[37] TimeLapse: 5994200, result: [(21, 'spanish sw might apache beauty twist nodes hill')]\n",
      "[38] TimeLapse: 8013300, result: [(4, 'devices lit measurements knives essex rated paste')]\n",
      "[39] TimeLapse: 8983100, result: [(12, 'fox functionality dining dried enb tomatoes socket door financial mesa')]\n",
      "[40] TimeLapse: 10006300, result: [(21, 'demographic aboriginal scary santa viking canadian census existing liberia')]\n",
      "[41] TimeLapse: 7994000, result: [(13, 'catalog referenced flashers defense institutions herbal heights everywhere substances')]\n",
      "[42] TimeLapse: 12001400, result: [(22, 'honduras flu foreign peoples hentai protection yourself arrive icon vista')]\n",
      "[43] TimeLapse: 6999300, result: [(4, 'arrangement ranch sql rainbow tonight rt capitol signatures bangladesh')]\n",
      "[44] TimeLapse: 7002000, result: [(19, 'secured ashley outreach compatible matches baseball gd')]\n",
      "[45] TimeLapse: 9000300, result: [(19, 'waterproof patient smile utc japan troubleshooting polyester modems complex steering')]\n",
      "[46] TimeLapse: 8002400, result: [(19, 'cubic spending nut iraqi advertisements framework ver')]\n",
      "[47] TimeLapse: 15002300, result: [(2, 'string spec selections wn malpractice favor pics elliott')]\n",
      "[48] TimeLapse: 6997100, result: [(16, 'pd kyle organizer contain groundwater achievements brochures duty bw manufacturer')]\n",
      "[49] TimeLapse: 8012300, result: [(23, 'sign trackbacks justice tips violin victorian abuse steady epa')]\n",
      "[50] TimeLapse: 5989400, result: [(12, 'dock club flag scholars uncertainty ceremony handjobs')]\n",
      "[51] TimeLapse: 9003200, result: [(18, 'exploring kazakhstan scored weed common nasa cia refers cakes')]\n",
      "[52] TimeLapse: 11994200, result: [(24, 'statements dat ky sat institution jimmy commercial explicitly proposition')]\n",
      "[53] TimeLapse: 9000800, result: [(7, 'worlds resolve processing special saves versus enzyme')]\n",
      "[54] TimeLapse: 9000000, result: [(21, 'technologies nuts phil ever responsible being ratings cook relates raising')]\n",
      "[55] TimeLapse: 7001000, result: [(3, 'carrier zealand tune caroline im valium recovered grateful')]\n",
      "[56] TimeLapse: 7997600, result: [(8, 'baker writers regulated freeware purchasing homeland anna behavioral sphere doe')]\n",
      "[57] TimeLapse: 13997800, result: [(4, 'built procurement fell piano saved webpage ones eq grand homeless')]\n",
      "[58] TimeLapse: 13003700, result: [(23, 'soccer copies males colour firms tons dealt shoulder royalty')]\n",
      "[59] TimeLapse: 10997600, result: [(24, 'exterior gregory deeper ima hearing minimize prozac beverage clusters')]\n",
      "[60] TimeLapse: 8000500, result: [(6, 'range goals rating slides strategic nearby peru lil generator interests')]\n",
      "[61] TimeLapse: 9009800, result: [(14, 'alliance games mat fifth designing refresh churches personalized farms katrina')]\n",
      "[62] TimeLapse: 8991100, result: [(21, 'indie seating thursday node wonder cached buyer token zones')]\n",
      "[63] TimeLapse: 15995800, result: [(16, 'narrative directory interview columnists unique sixth sc violin pi genius')]\n",
      "[64] TimeLapse: 8012700, result: [(8, 'simple io manual erp mile sold voltage')]\n",
      "[65] TimeLapse: 6988700, result: [(25, 'content italic nasdaq draw boutique monica inf norwegian faculty')]\n",
      "[66] TimeLapse: 6006000, result: [(3, 'ev dc tmcdehmdc onkzmc bar zooqnuzk athkchmf'), (4, 'fw ed undefined poland cbs approval building')]\n",
      "[67] TimeLapse: 7991700, result: [(15, 'cast bird implementation fl beds scan craig burner devices')]\n",
      "[68] TimeLapse: 9003900, result: [(6, 'patent log cooperation rush typing survey ideal ran shirts')]\n",
      "[69] TimeLapse: 6997300, result: [(3, 'engaged damaged calcium see amsterdam previous anaheim ids highest')]\n",
      "[70] TimeLapse: 5999900, result: [(3, 'xqzsft fajuo yrs nqf eqofuaz pb xqjge ne bz'), (4, 'yratgu gbkvp zst org frpgvba qc yrkhf of ca'), (5, 'zsbuhv hclwq atu psh gsqhwcb rd zslig pg db'), (6, 'atcviw idmxr buv qti htrixdc se atmjh qh ec'), (7, 'budwjx jenys cvw ruj iusjyed tf bunki ri fd'), (16, 'kdmfsg snwhb lef ads rdbshnm co kdwtr ar om'), (17, 'length toxic mfg bet section dp lexus bs pn'), (19, 'ngpivj vqzke ohi dgv ugevkqp fr ngzwu du rp'), (20, 'ohqjwk wralf pij ehw vhfwlrq gs ohaxv ev sq'), (21, 'pirkxl xsbmg qjk fix wigxmsr ht pibyw fw tr')]\n",
      "[71] TimeLapse: 10001200, result: [(4, 'olympus char flag diesel bryan demanding verify')]\n",
      "[72] TimeLapse: 6003800, result: [(22, 'hiring nasa pc consoles dramatic melbourne role')]\n",
      "[73] TimeLapse: 8998300, result: [(25, 'poor msg testimony si islamic wonderful albania name')]\n",
      "[74] TimeLapse: 7030500, result: [(21, 'fail idaho second learners idea think philips united obtaining')]\n",
      "[75] TimeLapse: 9967200, result: [(5, 'appearance syndicate circular bowl extremely apache governmental motors listed')]\n",
      "[76] TimeLapse: 7032200, result: [(1, 'cbs peas notifications currency wood remote frame gore')]\n",
      "[77] TimeLapse: 8968700, result: [(22, 'operating option samsung pages boys expressed tahoe freely photos bryant')]\n",
      "[78] TimeLapse: 6999400, result: [(21, 'conversion money creation responding implementing preparing formerly requesting')]\n",
      "[79] TimeLapse: 8972900, result: [(23, 'beijing surround veterans payment paperback essentially rob singles')]\n",
      "[80] TimeLapse: 6028500, result: [(20, 'descending center claimed about fbi cylinder loops')]\n",
      "[81] TimeLapse: 7971800, result: [(17, 'angola mae drawn pty properly broken serving nickname feeds')]\n",
      "[82] TimeLapse: 9027100, result: [(23, 'promise emotional cet calibration congressional relief deaf anniversary compiled')]\n",
      "[83] TimeLapse: 9971700, result: [(12, 'diane saves ranging started somehow romance measuring dir fares begin')]\n",
      "[84] TimeLapse: 7994000, result: [(8, 'speeches basename hole women invisible graham civilian review teaches')]\n",
      "[85] TimeLapse: 10034400, result: [(9, 'convicted frequently florida commissioner evil griffin miss advanced sunset')]\n",
      "[86] TimeLapse: 17971400, result: [(17, 'del pcs tion ass zoom baptist evaluation puts launches')]\n",
      "[87] TimeLapse: 9004100, result: [(24, 'retailer quite donation finally font manor bob counts')]\n",
      "[88] TimeLapse: 11024400, result: [(19, 'paths colour microsoft importantly religious mid even towers')]\n",
      "[89] TimeLapse: 9967400, result: [(14, 'cases cookbook ron these windows product shed panama spreading bi')]\n",
      "[90] TimeLapse: 6032900, result: [(23, 'distance barely reviewer pennsylvania postcard terminal packets')]\n",
      "[91] TimeLapse: 7969600, result: [(11, 'substantial rights lender novel lingerie basement particularly warcraft')]\n",
      "[92] TimeLapse: 7994800, result: [(7, 'gets china been spas danger interactive traditions accuracy catalogs')]\n",
      "[93] TimeLapse: 7001200, result: [(5, 'wine nascar defence offered fundraising buying accomplish')]\n",
      "[94] TimeLapse: 7998700, result: [(13, 'tail calculated systematic curtis incident launches gorgeous yearly bali')]\n",
      "[95] TimeLapse: 9000600, result: [(7, 'owns providers intention shaped kid roberts reaction colors ing thumbnail')]\n",
      "[96] TimeLapse: 10006000, result: [(3, 'rainbow raymond matters co males large compressed quantities')]\n",
      "[97] TimeLapse: 13998100, result: [(20, 'dvds regular entities damages internet thermal surgeons follow booty cars')]\n",
      "[98] TimeLapse: 11003000, result: [(23, 'cabinets pvc bag dinner sound european exposure greeting increasingly')]\n",
      "[99] TimeLapse: 7028300, result: [(12, 'cents loops platform richmond modules insertion em stomach eco')]\n",
      "average time is: 9920000.0ns, is 9.92ms\n"
     ]
    }
   ],
   "source": [
    "from random import randint\n",
    "from time import time_ns\n",
    "generator = RSGenerator('words_alpha(mit).txt')\n",
    "cracker = CaesarCracker('words_stems(mit).txt')\n",
    "\n",
    "times: list[int] = []\n",
    "\n",
    "for idx in range(100): # 100회 수행\n",
    "    sentence = generator.gen() # 문장 생성\n",
    "    encrypted = CaesarCipher.encoder(sentence,randint(1,25)) # 문장 생성\n",
    "    start = time_ns() # 시작 시간\n",
    "    result = cracker.crack(encrypted)\n",
    "    timelapse = time_ns() - start\n",
    "    print(f\"[{idx}] TimeLapse: {timelapse}, result: {result}\")\n",
    "    times.append(timelapse)\n",
    "\n",
    "avg = sum(times) / len(times) # 평균 나노초\n",
    "\n",
    "print(f\"average time is: {avg}ns, is {avg/1000000}ms\")"
   ]
  }
 ],
 "metadata": {
  "kernelspec": {
   "display_name": "Python 3",
   "language": "python",
   "name": "python3"
  },
  "language_info": {
   "codemirror_mode": {
    "name": "ipython",
    "version": 3
   },
   "file_extension": ".py",
   "mimetype": "text/x-python",
   "name": "python",
   "nbconvert_exporter": "python",
   "pygments_lexer": "ipython3",
   "version": "3.11.2"
  },
  "orig_nbformat": 4
 },
 "nbformat": 4,
 "nbformat_minor": 2
}
